{
 "cells": [
  {
   "cell_type": "markdown",
   "metadata": {},
   "source": [
    "1685. Sum of Absolute Differences in a Sorted Array\n",
    "Medium\n",
    "\n",
    "You are given an integer array nums sorted in non-decreasing order.\n",
    "\n",
    "Build and return an integer array result with the same length as nums such that result[i] is equal to the summation of absolute differences between nums[i] and all the other elements in the array.\n",
    "\n",
    "In other words, result[i] is equal to sum(|nums[i]-nums[j]|) where 0 <= j < nums.length and j != i (0-indexed).\n",
    "\n",
    " \n",
    "\n",
    "Example 1:\n",
    "\n",
    "Input: nums = [2,3,5]  \n",
    "Output: [4,3,5]  \n",
    "Explanation: Assuming the arrays are 0-indexed, then  \n",
    "result[0] = |2-2| + |2-3| + |2-5| = 0 + 1 + 3 = 4,  \n",
    "result[1] = |3-2| + |3-3| + |3-5| = 1 + 0 + 2 = 3,  \n",
    "result[2] = |5-2| + |5-3| + |5-5| = 3 + 2 + 0 = 5.  \n",
    "Example 2:  \n",
    "\n",
    "Input: nums = [1,4,6,8,10]  \n",
    "Output: [24,15,13,15,21]  "
   ]
  },
  {
   "cell_type": "markdown",
   "metadata": {},
   "source": [
    "Решение:\n",
    "\n",
    "\n",
    "Буду проходить по массиву 2 раза . в первый раз посчитаю разницу до первого элемента. \n",
    "каждый последующий элемент равен разнице предыдущего с первым элементом* количество элементов до него(индекс массива) + разница с предыдущим \n",
    "\n",
    "diff(между i и 0) = diff(между i-1 и 0)*(i-1)+diff(между i-1 и i)\n",
    "\n",
    "и обратно с последним элементом, и далее эти разницы сложить\n",
    "\n",
    "сложность o(n)"
   ]
  },
  {
   "cell_type": "code",
   "execution_count": 10,
   "metadata": {},
   "outputs": [
    {
     "name": "stdout",
     "output_type": "stream",
     "text": [
      "[24, 15, 13, 15, 21]\n"
     ]
    }
   ],
   "source": [
    "class Solution(object):\n",
    "    def getSumAbsoluteDifferences(self, nums):\n",
    "        \"\"\"\n",
    "        :type nums: List[int]\n",
    "        :rtype: List[int]\n",
    "        \"\"\"\n",
    "        if len(nums)==0:\n",
    "            return\n",
    "        n = len(nums)\n",
    "        diff = [0]\n",
    "        reversed_diff = res = [0]*len(nums)\n",
    "        for i in range(1, n):\n",
    "            diff.append((nums[i]-nums[i-1])*i+diff[i-1])\n",
    "        \n",
    "        \n",
    "        for i in range(n-2, -1, -1):\n",
    "            reversed_diff[i] = (nums[i+1]-nums[i])*(n-i-1)+reversed_diff[i+1]\n",
    "        \n",
    "        for i in range(1, n):\n",
    "            res[i] = diff[i] +reversed_diff[i]\n",
    "            \n",
    "        return res\n",
    "\n",
    "print(Solution().getSumAbsoluteDifferences(nums = [1,4,6,8,10]))\n"
   ]
  },
  {
   "cell_type": "markdown",
   "metadata": {},
   "source": [
    "<img src='../img_report/1685. Sum of Absolute Differences in a Sorted Array.jpg'>  \n",
    "\n"
   ]
  },
  {
   "cell_type": "code",
   "execution_count": null,
   "metadata": {},
   "outputs": [],
   "source": []
  }
 ],
 "metadata": {
  "kernelspec": {
   "display_name": "Python 3",
   "language": "python",
   "name": "python3"
  },
  "language_info": {
   "codemirror_mode": {
    "name": "ipython",
    "version": 3
   },
   "file_extension": ".py",
   "mimetype": "text/x-python",
   "name": "python",
   "nbconvert_exporter": "python",
   "pygments_lexer": "ipython3",
   "version": "3.11.2"
  },
  "orig_nbformat": 4
 },
 "nbformat": 4,
 "nbformat_minor": 2
}

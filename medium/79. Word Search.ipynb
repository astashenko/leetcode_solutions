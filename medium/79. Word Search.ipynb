{
 "cells": [
  {
   "cell_type": "markdown",
   "metadata": {},
   "source": [
    "https://leetcode.com/problems/word-search/\n",
    "\n",
    "\n",
    "79. Word Search\n",
    "Medium\n",
    "\n",
    "Given an m x n grid of characters board and a string word, return true if word exists in the grid.\n",
    "\n",
    "The word can be constructed from letters of sequentially adjacent cells, where adjacent cells are horizontally or vertically neighboring. The same letter cell may not be used more than once.\n",
    "\n",
    " \n",
    "\n",
    "Example 1:\n",
    "\n",
    "<img src='../img_report/word2.jpg'>  \n",
    "\n",
    "Input: board = [[\"A\",\"B\",\"C\",\"E\"],[\"S\",\"F\",\"C\",\"S\"],[\"A\",\"D\",\"E\",\"E\"]], word = \"ABCCED\"  \n",
    "Output: true"
   ]
  },
  {
   "cell_type": "code",
   "execution_count": 11,
   "metadata": {},
   "outputs": [
    {
     "name": "stdout",
     "output_type": "stream",
     "text": [
      "True\n",
      "True\n",
      "False\n",
      "True\n"
     ]
    }
   ],
   "source": [
    "class Solution(object):\n",
    "    def exist(self, board, word):\n",
    "        \"\"\"\n",
    "        :type board: List[List[str]]\n",
    "        :type word: str\n",
    "        :rtype: bool\n",
    "        \"\"\"\n",
    "        letters = len(word)\n",
    "        rows = len(board)\n",
    "        cols = len(board[0])\n",
    "        used_positions = [[0]*cols for row in range(rows)]\n",
    "\n",
    "        def search(index, row, col):\n",
    "            if index>=letters:\n",
    "                return True\n",
    "            \n",
    "            if row>=rows or col>=cols or row<0 or col<0:\n",
    "                return False\n",
    "            \n",
    "            if used_positions[row][col] == 1:\n",
    "                return False\n",
    "            \n",
    "            if board[row][col] !=  word[index]:\n",
    "                return False\n",
    "            \n",
    "            used_positions[row][col] = 1\n",
    "            found = search(index+1, row+1, col) or \\\n",
    "                    search(index+1, row-1, col) or \\\n",
    "                    search(index+1, row, col+1) or \\\n",
    "                    search(index+1, row, col-1) \n",
    "            used_positions[row][col] = 0\n",
    "\n",
    "\n",
    "            return found\n",
    "        \n",
    "        for row in range(rows):\n",
    "            for col in range(cols):\n",
    "                if search(0, row, col):\n",
    "                    return True\n",
    "                \n",
    "        return False\n",
    "print(Solution().exist(board = [[\"A\",\"B\",\"C\",\"E\"],[\"S\",\"F\",\"C\",\"S\"],[\"A\",\"D\",\"E\",\"E\"]], word = \"ABCCED\"))\n",
    "print(Solution().exist(board = [[\"A\",\"B\",\"C\",\"E\"],[\"S\",\"F\",\"C\",\"S\"],[\"A\",\"D\",\"E\",\"E\"]], word = \"SEE\"))\n",
    "print(Solution().exist(board = [[\"A\",\"B\",\"C\",\"E\"],[\"S\",\"F\",\"C\",\"S\"],[\"A\",\"D\",\"E\",\"E\"]], word = \"ABCB\"))\n",
    "print(Solution().exist(board = [[\"a\"]], word = \"a\"))\n"
   ]
  },
  {
   "cell_type": "markdown",
   "metadata": {},
   "source": [
    "<img src='../img_report/word2_res.jpg'>  "
   ]
  }
 ],
 "metadata": {
  "kernelspec": {
   "display_name": "Python 3",
   "language": "python",
   "name": "python3"
  },
  "language_info": {
   "codemirror_mode": {
    "name": "ipython",
    "version": 3
   },
   "file_extension": ".py",
   "mimetype": "text/x-python",
   "name": "python",
   "nbconvert_exporter": "python",
   "pygments_lexer": "ipython3",
   "version": "3.11.2"
  },
  "orig_nbformat": 4
 },
 "nbformat": 4,
 "nbformat_minor": 2
}

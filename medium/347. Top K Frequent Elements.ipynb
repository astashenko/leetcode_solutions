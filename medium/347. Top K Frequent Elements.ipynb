{
 "cells": [
  {
   "cell_type": "markdown",
   "metadata": {},
   "source": [
    "https://leetcode.com/problems/top-k-frequent-elements/\n",
    "\n",
    "347. Top K Frequent Elements\n",
    "\n",
    "Given an integer array nums and an integer k, return the k most frequent elements. You may return the answer in any order.\n"
   ]
  },
  {
   "cell_type": "code",
   "execution_count": 8,
   "metadata": {},
   "outputs": [
    {
     "name": "stdout",
     "output_type": "stream",
     "text": [
      "[1, 2]\n",
      "[-1]\n"
     ]
    }
   ],
   "source": [
    "class Solution(object):\n",
    "    def topKFrequent(self, nums, k):\n",
    "        \"\"\"\n",
    "        :type nums: List[int]\n",
    "        :type k: int\n",
    "        :rtype: List[int]\n",
    "        \"\"\"\n",
    "        res = {}\n",
    "        \n",
    "        for i in nums:\n",
    "            res[i] = res.get(i, 0) + 1\n",
    "            \n",
    "        vals = [[] for i in range(len(nums)+1)]\n",
    "        \n",
    "        for i, count in res.items():\n",
    "            vals[count].append(i)\n",
    "        \n",
    "        largest_k = []\n",
    "        for lst in vals[::-1]:\n",
    "            for elem in lst:\n",
    "               largest_k.append(elem)\n",
    "        \n",
    "               if len(largest_k) == k:\n",
    "                   return largest_k     \n",
    "                    \n",
    "        return []\n",
    "    \n",
    "nums = [1,1,1,2,2,3]\n",
    "k = 2        \n",
    "print(Solution().topKFrequent(nums, k))\n",
    "\n",
    "print(Solution().topKFrequent([-1,-1], 1))\n"
   ]
  },
  {
   "cell_type": "code",
   "execution_count": null,
   "metadata": {},
   "outputs": [],
   "source": []
  }
 ],
 "metadata": {
  "kernelspec": {
   "display_name": "Python 3",
   "language": "python",
   "name": "python3"
  },
  "language_info": {
   "codemirror_mode": {
    "name": "ipython",
    "version": 3
   },
   "file_extension": ".py",
   "mimetype": "text/x-python",
   "name": "python",
   "nbconvert_exporter": "python",
   "pygments_lexer": "ipython3",
   "version": "3.11.2"
  }
 },
 "nbformat": 4,
 "nbformat_minor": 2
}

{
 "cells": [
  {
   "cell_type": "markdown",
   "metadata": {},
   "source": [
    "https://leetcode.com/problems/contains-duplicate/description/\n",
    "\n",
    "217. Contains Duplicate  \n",
    "Easy  \n",
    "\n",
    "Given an integer array nums, return true if any value appears at least twice in the array, and return false if every element is distinct.\n",
    "\n",
    " \n",
    "\n",
    "Example 1:\n",
    "\n",
    "Input: nums = [1,2,3,1]  \n",
    "Output: true  \n",
    "Example 2:  \n",
    "\n",
    "Input: nums = [1,2,3,4]  \n",
    "Output: false  \n",
    "Example 3:  \n",
    "\n",
    "Input: nums = [1,1,1,3,3,4,3,2,4,2]  \n",
    "Output: true  \n",
    " \n",
    "\n",
    "Constraints:  \n",
    "\n",
    "1 <= nums.length <= 105  \n",
    "-109 <= nums[i] <= 109  "
   ]
  },
  {
   "cell_type": "code",
   "execution_count": 2,
   "metadata": {},
   "outputs": [],
   "source": [
    "class Solution(object):\n",
    "    def containsDuplicate(self, nums):\n",
    "        \"\"\"\n",
    "        :type nums: List[int]\n",
    "        :rtype: bool\n",
    "        \"\"\"\n",
    "        subset = set()\n",
    "        for elem in nums:\n",
    "            if elem in subset:\n",
    "                return True\n",
    "            subset.add(elem)\n",
    "        return False"
   ]
  },
  {
   "cell_type": "code",
   "execution_count": 3,
   "metadata": {},
   "outputs": [
    {
     "name": "stdout",
     "output_type": "stream",
     "text": [
      "True\n",
      "False\n",
      "True\n"
     ]
    }
   ],
   "source": [
    "print(Solution().containsDuplicate(nums = [1,2,3,1]))\n",
    "print(Solution().containsDuplicate(nums = [1,2,3,4]))\n",
    "print(Solution().containsDuplicate(nums = [1,1,1,3,3,4,3,2,4,2]))\n"
   ]
  },
  {
   "cell_type": "markdown",
   "metadata": {},
   "source": [
    "<img src='../img_report/217. Contains Duplicate.JPG'>  "
   ]
  },
  {
   "cell_type": "markdown",
   "metadata": {},
   "source": []
  }
 ],
 "metadata": {
  "kernelspec": {
   "display_name": "Python 3",
   "language": "python",
   "name": "python3"
  },
  "language_info": {
   "codemirror_mode": {
    "name": "ipython",
    "version": 3
   },
   "file_extension": ".py",
   "mimetype": "text/x-python",
   "name": "python",
   "nbconvert_exporter": "python",
   "pygments_lexer": "ipython3",
   "version": "3.11.2"
  },
  "orig_nbformat": 4
 },
 "nbformat": 4,
 "nbformat_minor": 2
}

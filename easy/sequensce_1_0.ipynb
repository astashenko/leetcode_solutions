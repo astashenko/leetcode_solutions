{
 "cells": [
  {
   "cell_type": "markdown",
   "metadata": {},
   "source": [
    "найти максимальную длину идущих подряд 1, если у последовательности 1 и 0 удалить одно число. "
   ]
  },
  {
   "cell_type": "code",
   "execution_count": null,
   "metadata": {},
   "outputs": [],
   "source": [
    "input = [0, 0] \n",
    "output = 0\n",
    "\n",
    "input = [1, 1] \n",
    "output = 1\n",
    "\n",
    "input = [1, 1, 0, 1, 1, 1, 0, 1, 1, 1] \n",
    "output = 6\n",
    "\n",
    "input = [1,  0, 1, 1, 0, 1, 1,  1, 0, 0, 1, 1, 1, 0, 1] \n",
    "output = 5"
   ]
  },
  {
   "cell_type": "code",
   "execution_count": 7,
   "metadata": {},
   "outputs": [
    {
     "name": "stdout",
     "output_type": "stream",
     "text": [
      "0\n",
      "1\n",
      "6\n",
      "5\n",
      "6\n",
      "7\n"
     ]
    }
   ],
   "source": [
    "def max_length_of_ones(nums):\n",
    "    zeros = False\n",
    "    prev = 1\n",
    "    pointer = 0\n",
    "    count = [0, 0]\n",
    "    max_length = 0 \n",
    "    for elem in nums:\n",
    "        count[pointer] += elem\n",
    "        max_length = max(max_length,  count[0]+count[1])\n",
    "        if elem == 0:\n",
    "            pointer = (pointer+1)%2\n",
    "            count[pointer] = 0\n",
    "            if prev ==0:\n",
    "                 count = [0, 0]\n",
    "            zeros = True\n",
    "        prev = elem\n",
    "    return max_length if zeros else max_length-1\n",
    "\n",
    "print(max_length_of_ones([0, 0] ))\n",
    "print(max_length_of_ones([1, 1]  ))\n",
    "print(max_length_of_ones([1, 1, 0, 1, 1, 1, 0, 1, 1, 1] ))\n",
    "print(max_length_of_ones([1,  0, 1, 1, 0, 1, 1,  1, 0, 0, 1, 1, 1, 0, 1]  ))\n",
    "print(max_length_of_ones([1,  0, 1, 1, 0, 1, 1,  1, 0, 0, 1, 1, 1, 0, 1, 1, 1, 0, 0, 1]  ))\n",
    "print(max_length_of_ones([1,  0, 1, 1, 0, 1, 1,  1, 0, 0, 1, 1, 1, 1, 1, 1,1, 0, 0, 1]  ))"
   ]
  },
  {
   "cell_type": "code",
   "execution_count": null,
   "metadata": {},
   "outputs": [],
   "source": []
  }
 ],
 "metadata": {
  "kernelspec": {
   "display_name": "Python 3",
   "language": "python",
   "name": "python3"
  },
  "language_info": {
   "codemirror_mode": {
    "name": "ipython",
    "version": 3
   },
   "file_extension": ".py",
   "mimetype": "text/x-python",
   "name": "python",
   "nbconvert_exporter": "python",
   "pygments_lexer": "ipython3",
   "version": "3.11.2"
  },
  "orig_nbformat": 4
 },
 "nbformat": 4,
 "nbformat_minor": 2
}

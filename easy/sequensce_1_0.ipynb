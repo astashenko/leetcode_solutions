{
 "cells": [
  {
   "cell_type": "markdown",
   "metadata": {},
   "source": [
    "найти максимальную длину идущих подряд 1, если у последовательности 1 и 0 удалить одно число. \n",
    "\n",
    "https://leetcode.com/problems/longest-subarray-of-1s-after-deleting-one-element/editorial/"
   ]
  },
  {
   "cell_type": "code",
   "execution_count": null,
   "metadata": {},
   "outputs": [],
   "source": [
    "input = [0, 0] \n",
    "output = 0\n",
    "\n",
    "input = [1, 1] \n",
    "output = 1\n",
    "\n",
    "input = [1, 1, 0, 1, 1, 1, 0, 1, 1, 1] \n",
    "output = 6\n",
    "\n",
    "input = [1,  0, 1, 1, 0, 1, 1,  1, 0, 0, 1, 1, 1, 0, 1] \n",
    "output = 5"
   ]
  },
  {
   "cell_type": "code",
   "execution_count": 7,
   "metadata": {},
   "outputs": [
    {
     "name": "stdout",
     "output_type": "stream",
     "text": [
      "0\n",
      "1\n",
      "6\n",
      "5\n",
      "6\n",
      "7\n"
     ]
    }
   ],
   "source": [
    "def max_length_of_ones(nums):\n",
    "    zeros = False\n",
    "    prev = 1\n",
    "    pointer = 0\n",
    "    count = [0, 0]\n",
    "    max_length = 0 \n",
    "    for elem in nums:\n",
    "        count[pointer] += elem\n",
    "        max_length = max(max_length,  count[0]+count[1])\n",
    "        if elem == 0:\n",
    "            pointer = (pointer+1)%2\n",
    "            count[pointer] = 0\n",
    "            if prev ==0:\n",
    "                 count = [0, 0]\n",
    "            zeros = True\n",
    "        prev = elem\n",
    "    return max_length if zeros else max_length-1\n",
    "\n",
    "print(max_length_of_ones([0, 0] ))\n",
    "print(max_length_of_ones([1, 1]  ))\n",
    "print(max_length_of_ones([1, 1, 0, 1, 1, 1, 0, 1, 1, 1] ))\n",
    "print(max_length_of_ones([1,  0, 1, 1, 0, 1, 1,  1, 0, 0, 1, 1, 1, 0, 1]  ))\n",
    "print(max_length_of_ones([1,  0, 1, 1, 0, 1, 1,  1, 0, 0, 1, 1, 1, 0, 1, 1, 1, 0, 0, 1]  ))\n",
    "print(max_length_of_ones([1,  0, 1, 1, 0, 1, 1,  1, 0, 0, 1, 1, 1, 1, 1, 1,1, 0, 0, 1]  ))"
   ]
  },
  {
   "cell_type": "code",
   "execution_count": 12,
   "metadata": {},
   "outputs": [
    {
     "data": {
      "text/plain": [
       "[1, 2]"
      ]
     },
     "execution_count": 12,
     "metadata": {},
     "output_type": "execute_result"
    }
   ],
   "source": [
    "nums = [1,1,2]\n",
    "list(range(1, len(nums)))"
   ]
  },
  {
   "cell_type": "code",
   "execution_count": 1,
   "metadata": {},
   "outputs": [
    {
     "name": "stdout",
     "output_type": "stream",
     "text": [
      "0\n",
      "1\n",
      "6\n",
      "5\n",
      "6\n",
      "7\n"
     ]
    }
   ],
   "source": [
    "def max_length_of_ones(nums):\n",
    "    seq = [{'ones':0, 'zeros':0}, {'ones':0, 'zeros':1}]\n",
    "    max_ones = 0\n",
    "    zeros = 0\n",
    "    for num in nums:\n",
    "        if num == 0:\n",
    "            zeros = 1\n",
    "            for i in range(2):\n",
    "                seq[i]['zeros'] = seq[i]['zeros'] + 1\n",
    "        else:\n",
    "            for i in range(2):\n",
    "                seq[i]['ones'] = seq[i]['ones'] + 1\n",
    "            \n",
    "        \n",
    "        for i in range(2):\n",
    "            if seq[i]['zeros'] > 1:\n",
    "                max_ones = max(max_ones, seq[i]['ones'])\n",
    "                seq[i] =  {'ones':0, 'zeros':0}   \n",
    "    \n",
    "    for i in range(2):\n",
    "        max_ones = max(max_ones, seq[i]['ones'])\n",
    "\n",
    "    return max_ones if zeros ==1 else max_ones-1\n",
    "\n",
    "print(max_length_of_ones([0, 0] ))\n",
    "print(max_length_of_ones([1, 1]  ))\n",
    "print(max_length_of_ones([1, 1, 0, 1, 1, 1, 0, 1, 1, 1] ))\n",
    "print(max_length_of_ones([1,  0, 1, 1, 0, 1, 1,  1, 0, 0, 1, 1, 1, 0, 1]  ))\n",
    "print(max_length_of_ones([1,  0, 1, 1, 0, 1, 1,  1, 0, 0, 1, 1, 1, 0, 1, 1, 1, 0, 0, 1]  ))\n",
    "print(max_length_of_ones([1,  0, 1, 1, 0, 1, 1,  1, 0, 0, 1, 1, 1, 1, 1, 1,1, 0, 0, 1]  ))"
   ]
  },
  {
   "cell_type": "code",
   "execution_count": 11,
   "metadata": {},
   "outputs": [
    {
     "name": "stdout",
     "output_type": "stream",
     "text": [
      "0\n",
      "2\n",
      "8\n",
      "10\n",
      "13\n",
      "14\n"
     ]
    }
   ],
   "source": []
  },
  {
   "cell_type": "code",
   "execution_count": null,
   "metadata": {},
   "outputs": [],
   "source": []
  }
 ],
 "metadata": {
  "kernelspec": {
   "display_name": "Python 3",
   "language": "python",
   "name": "python3"
  },
  "language_info": {
   "codemirror_mode": {
    "name": "ipython",
    "version": 3
   },
   "file_extension": ".py",
   "mimetype": "text/x-python",
   "name": "python",
   "nbconvert_exporter": "python",
   "pygments_lexer": "ipython3",
   "version": "3.11.2"
  },
  "orig_nbformat": 4
 },
 "nbformat": 4,
 "nbformat_minor": 2
}
